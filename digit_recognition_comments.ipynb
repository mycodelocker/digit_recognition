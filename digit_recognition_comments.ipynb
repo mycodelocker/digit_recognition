{
  "nbformat": 4,
  "nbformat_minor": 0,
  "metadata": {
    "colab": {
      "name": "digit_recognition.ipynb",
      "version": "0.3.2",
      "provenance": [],
      "collapsed_sections": [],
      "include_colab_link": true
    },
    "language_info": {
      "codemirror_mode": {
        "name": "ipython",
        "version": 3
      },
      "file_extension": ".py",
      "mimetype": "text/x-python",
      "name": "python",
      "nbconvert_exporter": "python",
      "pygments_lexer": "ipython3",
      "version": "3.6.1"
    },
    "kernelspec": {
      "name": "python3",
      "display_name": "Python 3"
    },
    "accelerator": "GPU"
  },
  "cells": [
    {
      "cell_type": "markdown",
      "metadata": {
        "id": "view-in-github",
        "colab_type": "text"
      },
      "source": [
        "<a href=\"https://colab.research.google.com/github/mycodelocker/digit_recognition/blob/master/digit_recognition_comments.ipynb\" target=\"_parent\"><img src=\"https://colab.research.google.com/assets/colab-badge.svg\" alt=\"Open In Colab\"/></a>"
      ]
    },
    {
      "cell_type": "markdown",
      "metadata": {
        "id": "DYjZ2BXVvJQ4",
        "colab_type": "text"
      },
      "source": [
        "#REFERENCE\n",
        "https://towardsdatascience.com/a-simple-2d-cnn-for-mnist-digit-recognition-a998dbc1e79a\n",
        "\n",
        "Other references \n",
        "https://github.com/BinRoot/TensorFlow-Book\n",
        "\n",
        "https://medium.com/machine-learning-for-humans/how-to-learn-machine-learning-24d53bb64aa1\n",
        "\n",
        "https://towardsdatascience.com/building-a-convolutional-neural-network-cnn-in-keras-329fbbadc5f5\n",
        "\n",
        "https://missinglink.ai/guides/neural-network-concepts/convolutional-neural-network-build-one-keras-pytorch/\n",
        "\n",
        "A simple explanation is given here\n",
        "\n",
        "https://datascienceplus.com/handwritten-digit-recognition-with-cnn/\n"
      ]
    },
    {
      "cell_type": "code",
      "metadata": {
        "id": "GuJ0CyjmvJQ7",
        "colab_type": "code",
        "outputId": "fa8b88af-a397-4559-facb-781beab99419",
        "colab": {
          "base_uri": "https://localhost:8080/",
          "height": 34
        }
      },
      "source": [
        "import keras #importing keras library\n",
        "from keras.datasets import mnist #importing mnist dataset\n",
        "#load mnist dataset\n",
        "(X_train, y_train), (X_test, y_test) = mnist.load_data() #everytime loading data won't be so easy :)\n",
        "print(X_train.shape)"
      ],
      "execution_count": 0,
      "outputs": [
        {
          "output_type": "stream",
          "text": [
            "(60000, 28, 28)\n"
          ],
          "name": "stdout"
        }
      ]
    },
    {
      "cell_type": "code",
      "metadata": {
        "id": "q-Dizof5vJRB",
        "colab_type": "code",
        "outputId": "58eaa172-98b0-4db4-924f-c2476cc7529a",
        "colab": {
          "base_uri": "https://localhost:8080/",
          "height": 284
        }
      },
      "source": [
        "\n",
        "import matplotlib.pyplot as plt  #importing pyplot for plotting figures\n",
        "fig = plt.figure()\n",
        "for i in range(9):       # for i=0 to 9 means 0-8 total 9 counts\n",
        "  plt.subplot(3,3,i+1)  # 3,3,1  3,3,2 and so on\n",
        "  plt.tight_layout()  # To make subplot fit into the figure area.\n",
        "  plt.imshow(X_train[i], cmap='gray', interpolation='none')  # show the ith image item in X_train (now digits), color map is gray, with no interpolation\n",
        "  plt.title(\"Digit: {}\".format(y_train[i])) # To display the corresponding label as the title of each subplots\n",
        "  plt.xticks([]) # To print with no ticks on x axis (small marks in the axes)\n",
        "  plt.yticks([]) # To print with no ticks on y axis (small marks in the axes)\n",
        "#fig\n"
      ],
      "execution_count": 0,
      "outputs": [
        {
          "output_type": "display_data",
          "data": {
            "image/png": "[encoded data removed]",
            "text/plain": [
              "<Figure size 432x288 with 9 Axes>"
            ]
          },
          "metadata": {
            "tags": []
          }
        }
      ]
    },
    {
      "cell_type": "code",
      "metadata": {
        "id": "C-uN3aaFvJRF",
        "colab_type": "code",
        "colab": {}
      },
      "source": [
        "import keras\n",
        "#set number of categories\n",
        "num_category = 10\n",
        "# convert class vectors to binary class matrices\n",
        "y_train = keras.utils.to_categorical(y_train, num_category)\n",
        "y_test = keras.utils.to_categorical(y_test, num_category)\n"
      ],
      "execution_count": 0,
      "outputs": []
    },
    {
      "cell_type": "code",
      "metadata": {
        "id": "EV5z5wcpvJRI",
        "colab_type": "code",
        "outputId": "59990bb2-953a-49c1-f4dc-f5618d3c5b4c",
        "colab": {}
      },
      "source": [
        "# code for digit recognition\n",
        "from keras.datasets import mnist#download mnist data and split into train and test sets\n",
        "(X_train, y_train), (X_test, y_test) = mnist.load_data()\n",
        "print(y_train.shape)"
      ],
      "execution_count": 0,
      "outputs": [
        {
          "output_type": "stream",
          "text": [
            "(60000,)\n"
          ],
          "name": "stdout"
        }
      ]
    },
    {
      "cell_type": "code",
      "metadata": {
        "id": "Dl_HEqLWvJRL",
        "colab_type": "code",
        "outputId": "3270dcc1-41cf-4d66-99de-3b38c56b5f45",
        "colab": {}
      },
      "source": [
        "import matplotlib.pyplot as plt#plot the 8th image in the dataset\n",
        "plt.imshow(X_train[7])"
      ],
      "execution_count": 0,
      "outputs": [
        {
          "output_type": "execute_result",
          "data": {
            "text/plain": [
              "<matplotlib.image.AxesImage at 0x7f5ad232da90>"
            ]
          },
          "metadata": {
            "tags": []
          },
          "execution_count": 5
        },
        {
          "output_type": "display_data",
          "data": {
            "image/png": "[encoded data removed]",
            "text/plain": [
              "<Figure size 432x288 with 1 Axes>"
            ]
          },
          "metadata": {
            "tags": [],
            "needs_background": "light"
          }
        }
      ]
    },
    {
      "cell_type": "code",
      "metadata": {
        "id": "rRNY2QGOvJRP",
        "colab_type": "code",
        "outputId": "03b5fb61-f8b1-4f5d-bc93-d11cff2bdbbe",
        "colab": {}
      },
      "source": [
        "#check image shape\n",
        "X_train[0].shape\n"
      ],
      "execution_count": 0,
      "outputs": [
        {
          "output_type": "execute_result",
          "data": {
            "text/plain": [
              "(28, 28)"
            ]
          },
          "metadata": {
            "tags": []
          },
          "execution_count": 6
        }
      ]
    },
    {
      "cell_type": "code",
      "metadata": {
        "id": "1KYBxentvJRS",
        "colab_type": "code",
        "colab": {}
      },
      "source": [
        "#reshape data to fit model\n",
        "X_train = X_train.reshape(60000,28,28,1) # reshaping because CNN accepts only 4-D vector, 60,000 images of size 28 x 28 with no.of channels = 1.\n",
        "X_test = X_test.reshape(10000,28,28,1) # reshaping test set\n"
      ],
      "execution_count": 0,
      "outputs": []
    },
    {
      "cell_type": "code",
      "metadata": {
        "id": "4_TncuqYvJRV",
        "colab_type": "code",
        "outputId": "60fb23db-c3d3-441c-84df-0502fb0fee8e",
        "colab": {}
      },
      "source": [
        "from keras.utils import to_categorical \n",
        "y_train = to_categorical(y_train) #we also convert our target values into binary class matrices, \n",
        "y_test = to_categorical(y_test) #which means 2 will be converted to matrix form [0,0,1,0,0,0,0,0,0,0] as num_classes is set to 10.\n",
        "y_train[0]\n",
        "print(y_train.shape)"
      ],
      "execution_count": 0,
      "outputs": [
        {
          "output_type": "stream",
          "text": [
            "(60000, 10)\n"
          ],
          "name": "stdout"
        }
      ]
    },
    {
      "cell_type": "code",
      "metadata": {
        "id": "wxUHHF6NvJRY",
        "colab_type": "code",
        "outputId": "3e74dcc7-c4a2-48e1-d6f0-dafda076d7a1",
        "colab": {}
      },
      "source": [
        "from keras.models import Sequential # importing sequential model\n",
        "from keras.layers import Dense, Conv2D, Flatten  #Dense layer will be used to predict the labels,  the Dropout layer for reducing overfitting ,\n",
        " #  Flatten to convert a 3-d Array to 1-d. Then importing convolutional layer.\n",
        "model = Sequential()"
      ],
      "execution_count": 0,
      "outputs": [
        {
          "output_type": "stream",
          "text": [
            "WARNING: Logging before flag parsing goes to stderr.\n",
            "W0709 21:04:34.256763 140029347194688 deprecation_wrapper.py:119] From /home/sajini/.local/lib/python3.7/site-packages/keras/backend/tensorflow_backend.py:74: The name tf.get_default_graph is deprecated. Please use tf.compat.v1.get_default_graph instead.\n",
            "\n"
          ],
          "name": "stderr"
        }
      ]
    },
    {
      "cell_type": "markdown",
      "metadata": {
        "id": "2EBiOs96kb5w",
        "colab_type": "text"
      },
      "source": [
        ""
      ]
    },
    {
      "cell_type": "code",
      "metadata": {
        "id": "6dLR6xwrvJRc",
        "colab_type": "code",
        "outputId": "acc9a1d5-f5b6-414a-d3ed-0a702d864bf4",
        "colab": {}
      },
      "source": [
        "model.add(Conv2D(64, kernel_size=3, activation='relu', input_shape=(28,28,1))) #Adding convolution layer, using activation function relu\n",
        "model.add(Conv2D(32, kernel_size=3, activation='relu')) #Adding another conv layer"
      ],
      "execution_count": 0,
      "outputs": [
        {
          "output_type": "stream",
          "text": [
            "W0709 21:04:34.710562 140029347194688 deprecation_wrapper.py:119] From /home/sajini/.local/lib/python3.7/site-packages/keras/backend/tensorflow_backend.py:517: The name tf.placeholder is deprecated. Please use tf.compat.v1.placeholder instead.\n",
            "\n",
            "W0709 21:04:34.836239 140029347194688 deprecation_wrapper.py:119] From /home/sajini/.local/lib/python3.7/site-packages/keras/backend/tensorflow_backend.py:4138: The name tf.random_uniform is deprecated. Please use tf.random.uniform instead.\n",
            "\n"
          ],
          "name": "stderr"
        }
      ]
    },
    {
      "cell_type": "code",
      "metadata": {
        "id": "-BPsATFmvJRg",
        "colab_type": "code",
        "colab": {}
      },
      "source": [
        "model.add(Flatten()) # Flattening the output\n"
      ],
      "execution_count": 0,
      "outputs": []
    },
    {
      "cell_type": "code",
      "metadata": {
        "id": "wup-FcAkvJRj",
        "colab_type": "code",
        "colab": {}
      },
      "source": [
        "model.add(Dense(10, activation='softmax')) # Dense layer "
      ],
      "execution_count": 0,
      "outputs": []
    },
    {
      "cell_type": "code",
      "metadata": {
        "id": "HAoKqq2VvJRn",
        "colab_type": "code",
        "outputId": "c8a2f2b8-30ac-4db8-f33c-4195f8656791",
        "colab": {}
      },
      "source": [
        "model.compile(optimizer='adam', loss='categorical_crossentropy', metrics=['accuracy']) # Compiling the model with  'Adam' optimizer and categorical cross entropy as loss function, with output metrics accuracy for evaluating the model.\n",
        "model.summary() # displays model summary"
      ],
      "execution_count": 0,
      "outputs": [
        {
          "output_type": "stream",
          "text": [
            "W0709 21:04:35.479497 140029347194688 deprecation_wrapper.py:119] From /home/sajini/.local/lib/python3.7/site-packages/keras/optimizers.py:790: The name tf.train.Optimizer is deprecated. Please use tf.compat.v1.train.Optimizer instead.\n",
            "\n",
            "W0709 21:04:35.531628 140029347194688 deprecation_wrapper.py:119] From /home/sajini/.local/lib/python3.7/site-packages/keras/backend/tensorflow_backend.py:3295: The name tf.log is deprecated. Please use tf.math.log instead.\n",
            "\n"
          ],
          "name": "stderr"
        },
        {
          "output_type": "stream",
          "text": [
            "_________________________________________________________________\n",
            "Layer (type)                 Output Shape              Param #   \n",
            "=================================================================\n",
            "conv2d_1 (Conv2D)            (None, 26, 26, 64)        640       \n",
            "_________________________________________________________________\n",
            "conv2d_2 (Conv2D)            (None, 24, 24, 32)        18464     \n",
            "_________________________________________________________________\n",
            "flatten_1 (Flatten)          (None, 18432)             0         \n",
            "_________________________________________________________________\n",
            "dense_1 (Dense)              (None, 10)                184330    \n",
            "=================================================================\n",
            "Total params: 203,434\n",
            "Trainable params: 203,434\n",
            "Non-trainable params: 0\n",
            "_________________________________________________________________\n"
          ],
          "name": "stdout"
        }
      ]
    },
    {
      "cell_type": "code",
      "metadata": {
        "id": "9A878u41vJRs",
        "colab_type": "code",
        "outputId": "0577ae31-51bd-4867-ca26-de3e6ad1425a",
        "colab": {}
      },
      "source": [
        "model.fit(X_train, y_train, validation_data=(X_test, y_test), epochs=3) # Fiting the model with training samples, no. of epochs set to 3 , and validation data set to X_test.\n",
        "# Output shows the accuracy after each epoch."
      ],
      "execution_count": 0,
      "outputs": [
        {
          "output_type": "stream",
          "text": [
            "W0709 21:04:36.173562 140029347194688 deprecation.py:323] From /home/sajini/.local/lib/python3.7/site-packages/tensorflow/python/ops/math_grad.py:1250: add_dispatch_support.<locals>.wrapper (from tensorflow.python.ops.array_ops) is deprecated and will be removed in a future version.\n",
            "Instructions for updating:\n",
            "Use tf.where in 2.0, which has the same broadcast rule as np.where\n",
            "W0709 21:04:36.272527 140029347194688 deprecation_wrapper.py:119] From /home/sajini/.local/lib/python3.7/site-packages/keras/backend/tensorflow_backend.py:986: The name tf.assign_add is deprecated. Please use tf.compat.v1.assign_add instead.\n",
            "\n"
          ],
          "name": "stderr"
        },
        {
          "output_type": "stream",
          "text": [
            "Train on 60000 samples, validate on 10000 samples\n",
            "Epoch 1/3\n",
            "60000/60000 [==============================] - 80s 1ms/step - loss: 1.9735 - acc: 0.8489 - val_loss: 0.0910 - val_acc: 0.9719\n",
            "Epoch 2/3\n",
            "60000/60000 [==============================] - 78s 1ms/step - loss: 0.0690 - acc: 0.9794 - val_loss: 0.0806 - val_acc: 0.9754\n",
            "Epoch 3/3\n",
            "60000/60000 [==============================] - 78s 1ms/step - loss: 0.0471 - acc: 0.9857 - val_loss: 0.0894 - val_acc: 0.9745\n"
          ],
          "name": "stdout"
        },
        {
          "output_type": "execute_result",
          "data": {
            "text/plain": [
              "<keras.callbacks.History at 0x7f5ad1557358>"
            ]
          },
          "metadata": {
            "tags": []
          },
          "execution_count": 14
        }
      ]
    },
    {
      "cell_type": "code",
      "metadata": {
        "id": "690CyhxevJRy",
        "colab_type": "code",
        "outputId": "6b160499-97cb-4a7c-fb52-69baff5dda30",
        "colab": {}
      },
      "source": [
        "#Checking the prediction of model for the input X_test(0 to 3)\n",
        "model.predict(X_test[:4])"
      ],
      "execution_count": 0,
      "outputs": [
        {
          "output_type": "execute_result",
          "data": {
            "text/plain": [
              "array([[7.66762476e-09, 1.15175599e-12, 4.61624978e-07, 3.73994681e-07,\n",
              "        2.75273693e-11, 1.63214470e-10, 6.53673907e-16, 9.99997497e-01,\n",
              "        1.26236694e-06, 4.57291492e-07],\n",
              "       [1.46260139e-11, 1.46058998e-09, 9.99999881e-01, 1.55342864e-10,\n",
              "        1.45067053e-12, 8.14811651e-13, 8.68475567e-08, 1.07475153e-16,\n",
              "        5.86060267e-09, 4.60717551e-14],\n",
              "       [7.52677124e-07, 8.84423673e-01, 9.48591996e-03, 6.63505830e-07,\n",
              "        5.25876246e-02, 3.19828745e-04, 2.42060178e-05, 1.82523465e-07,\n",
              "        5.31561337e-02, 9.91547040e-07],\n",
              "       [1.00000000e+00, 1.54761525e-13, 1.23456170e-08, 8.07566887e-15,\n",
              "        3.55774898e-09, 2.76142997e-12, 6.94538611e-12, 3.33716317e-13,\n",
              "        2.22646301e-09, 9.04916231e-09]], dtype=float32)"
            ]
          },
          "metadata": {
            "tags": []
          },
          "execution_count": 15
        }
      ]
    },
    {
      "cell_type": "code",
      "metadata": {
        "id": "xKmSbbNpvJR3",
        "colab_type": "code",
        "outputId": "7a7feb88-6a26-4236-a32d-4087d5ec8cb5",
        "colab": {}
      },
      "source": [
        "y_test[:4]"
      ],
      "execution_count": 0,
      "outputs": [
        {
          "output_type": "execute_result",
          "data": {
            "text/plain": [
              "array([[0., 0., 0., 0., 0., 0., 0., 1., 0., 0.],\n",
              "       [0., 0., 1., 0., 0., 0., 0., 0., 0., 0.],\n",
              "       [0., 1., 0., 0., 0., 0., 0., 0., 0., 0.],\n",
              "       [1., 0., 0., 0., 0., 0., 0., 0., 0., 0.]], dtype=float32)"
            ]
          },
          "metadata": {
            "tags": []
          },
          "execution_count": 16
        }
      ]
    }
  ]
}